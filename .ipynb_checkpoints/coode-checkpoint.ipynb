{
 "cells": [
  {
   "cell_type": "code",
   "execution_count": 1,
   "metadata": {},
   "outputs": [
    {
     "name": "stdout",
     "output_type": "stream",
     "text": [
      "fuck you\n"
     ]
    }
   ],
   "source": [
    "print(\"fuck you\")"
   ]
  },
  {
   "cell_type": "markdown",
   "metadata": {},
   "source": [
    "**DIAMETER OF A BINARY TREE**\n",
    "\n",
    "https://www.youtube.com/watch?v=ey7DYc9OANo\n"
   ]
  },
  {
   "cell_type": "code",
   "execution_count": 2,
   "metadata": {},
   "outputs": [],
   "source": [
    "#gives tle\n",
    "\n",
    "class Node:\n",
    "    def __init__(self,data):\n",
    "        self.data=data\n",
    "        self.left=None\n",
    "        self.right=None\n",
    "\n",
    "def height(node,ans):\n",
    "    if node==None:\n",
    "        return 0\n",
    "    else:\n",
    "        lheight=height(node.left,ans)\n",
    "        rheight=height(node.right,ans)\n",
    "        \n",
    "        if lheight>rheight:\n",
    "            return lheight+1\n",
    "        else:\n",
    "            return rheight+1\n",
    "        \n",
    "        \n",
    "def diameter(root):\n",
    "    if root ==None:\n",
    "        return 0\n",
    "    lheight=height(root.left)\n",
    "    rheight=height(root.right)\n",
    "    ldiameter=diameter(root.left)\n",
    "    rdiameter=diameter(root.right)\n",
    "    return max(lheight+rheight+1,max(ldiameter,rdiameter))"
   ]
  },
  {
   "cell_type": "code",
   "execution_count": 3,
   "metadata": {},
   "outputs": [],
   "source": [
    "#optimized solution\n",
    "\n",
    "class Solution:\n",
    "    \n",
    "    #Function to return the diameter of a Binary Tree.\n",
    "\n",
    "\n",
    "    def height(self,node,ans):\n",
    "        if node==None:\n",
    "            return 0\n",
    "        else:\n",
    "            lheight=self.height(node.left,ans)\n",
    "            rheight=self.height(node.right,ans)\n",
    "            ans[0]=max(ans[0],1+lheight+rheight)\n",
    "            \n",
    "            if lheight>rheight:\n",
    "                return lheight+1\n",
    "            else:\n",
    "                return rheight+1\n",
    "            \n",
    "            \n",
    "    def diameter(self,root):\n",
    "        if root ==None:\n",
    "            return 0\n",
    "        ans=[-999999999999999]\n",
    "        h=self.height(root,ans)\n",
    "        return ans[0]"
   ]
  },
  {
   "cell_type": "markdown",
   "metadata": {},
   "source": [
    "**MIRROR TREE** https://www.geeksforgeeks.org/create-a-mirror-tree-from-the-given-binary-tree/"
   ]
  },
  {
   "cell_type": "code",
   "execution_count": 4,
   "metadata": {},
   "outputs": [
    {
     "name": "stdout",
     "output_type": "stream",
     "text": [
      "Inorder of original tree: \n",
      "2 3 4 5 6 \t\n",
      "mirror tree\n",
      "6 5 4 3 2 "
     ]
    }
   ],
   "source": [
    "class Node:\n",
    "    def __init__(self,data):\n",
    "        self.data=data\n",
    "        self.left=None\n",
    "        self.right=None\n",
    "        \n",
    "        \n",
    "def createNode(val):\n",
    "    newNode = Node(0)\n",
    "    newNode.val = val\n",
    "    newNode.left = None\n",
    "    newNode.right = None\n",
    "    return newNode\n",
    "\n",
    "def inorder(root):\n",
    "    if (root == None):\n",
    "        return\n",
    "    inorder(root.left)\n",
    "    print( root.val, end = \" \")\n",
    "    inorder(root.right)\n",
    "    \n",
    "    \n",
    "def mirror(node):\n",
    "    if node==None:\n",
    "        return 0\n",
    "    else:\n",
    "        temp=node\n",
    "        \n",
    "        if node.left:\n",
    "            mirror(node.left)\n",
    "        if node.right:\n",
    "            mirror(node.right)\n",
    "        temp=node.left\n",
    "        \n",
    "        node.left=node.right\n",
    "        node.right=temp\n",
    "    return node\n",
    "\n",
    "\n",
    "if __name__=='__main__':\n",
    " \n",
    "    tree = createNode(5)\n",
    "    tree.left = createNode(3)\n",
    "    tree.right = createNode(6)\n",
    "    tree.left.left = createNode(2)\n",
    "    tree.left.right = createNode(4)\n",
    "    print(\"Inorder of original tree: \")\n",
    "    inorder(tree)\n",
    "    mirror(tree)\n",
    "    print('\\t')\n",
    "    print('mirror tree')\n",
    "    inorder(tree)"
   ]
  }
 ],
 "metadata": {
  "kernelspec": {
   "display_name": "Python 3",
   "language": "python",
   "name": "python3"
  },
  "language_info": {
   "codemirror_mode": {
    "name": "ipython",
    "version": 3
   },
   "file_extension": ".py",
   "mimetype": "text/x-python",
   "name": "python",
   "nbconvert_exporter": "python",
   "pygments_lexer": "ipython3",
   "version": "3.8.5"
  }
 },
 "nbformat": 4,
 "nbformat_minor": 4
}
